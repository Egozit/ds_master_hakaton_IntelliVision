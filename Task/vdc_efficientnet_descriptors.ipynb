version https://git-lfs.github.com/spec/v1
oid sha256:cd4b38facfdadef4a36468ed4ca7aed9f1c4f09a478330f773554f4bfcf9a31d
size 4329
