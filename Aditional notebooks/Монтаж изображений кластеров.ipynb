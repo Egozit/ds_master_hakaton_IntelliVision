{
 "cells": [
  {
   "cell_type": "code",
   "execution_count": 30,
   "metadata": {},
   "outputs": [],
   "source": [
    "# importing the modules\n",
    "import cv2\n",
    "import numpy as np\n",
    "\n",
    "def create_collage(raw_images, filename, text, h, w):\n",
    "    # Создаем заполнение пустоты\n",
    "    blank_img = np.zeros([h,w,3],dtype=np.uint8)\n",
    "    blank_img.fill(255)\n",
    "    images = []\n",
    "    # Уменьшаем размер изображений\n",
    "    for img in raw_images:\n",
    "        images.append(cv2.resize(img,(h, w)))\n",
    "    if len(images) < 16:\n",
    "        while len(images) != 16:\n",
    "            images.append(blank_img)\n",
    "    # Укладываем ряды 4x4\n",
    "    Horizontal1=np.hstack([images[0],images[1],images[2],images[3]])\n",
    "    Horizontal2=np.hstack([images[4],images[5],images[6],images[7]])\n",
    "    Horizontal3=np.hstack([images[8],images[9],images[10],images[11]])\n",
    "    Horizontal4=np.hstack([images[12],images[13],images[14],images[15]])\n",
    "    collage = np.vstack([Horizontal1,Horizontal2,Horizontal3,Horizontal4])\n",
    "    \n",
    "    # Генерируем параметры надписи\n",
    "    font                   = cv2.FONT_HERSHEY_SIMPLEX\n",
    "    bottomLeftCornerOfText = (10,50)\n",
    "    fontScale              = 1\n",
    "    fontColor              = (10,10,10)\n",
    "    lineType               = 3\n",
    "    \n",
    "    # Добавляем надпись\n",
    "    cv2.putText(collage, text, \n",
    "        bottomLeftCornerOfText, \n",
    "        font, \n",
    "        fontScale,\n",
    "        fontColor,\n",
    "        lineType)\n",
    "    \n",
    "    # Сохраняем картинку в каталог\n",
    "    cv2.imwrite(f'{filename}.png', collage)\n",
    "\n",
    "\n",
    "image1=cv2.imread(\".\\\\raw_data\\\\veriwild\\\\veriwild\\\\1\\\\00001\\\\000001.jpg\")\n",
    "h, w = 200, 200\n",
    "test_img = np.zeros([h,w,3],dtype=np.uint8)\n",
    "test_img.fill(0)\n",
    "\n",
    "imgs=[image1,image1,image1,image1]\n",
    "\n",
    "create_collage(imgs, 'test_collage', 'Cluster 1', h, w)"
   ]
  }
 ],
 "metadata": {
  "kernelspec": {
   "display_name": "Python 3",
   "language": "python",
   "name": "python3"
  },
  "language_info": {
   "codemirror_mode": {
    "name": "ipython",
    "version": 3
   },
   "file_extension": ".py",
   "mimetype": "text/x-python",
   "name": "python",
   "nbconvert_exporter": "python",
   "pygments_lexer": "ipython3",
   "version": "3.8.5"
  }
 },
 "nbformat": 4,
 "nbformat_minor": 4
}
