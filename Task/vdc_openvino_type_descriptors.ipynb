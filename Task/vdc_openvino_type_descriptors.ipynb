version https://git-lfs.github.com/spec/v1
oid sha256:deda77e3e427fda344152864d4204fe17b18d0c61a56c999d55d17f303ce865f
size 4308
