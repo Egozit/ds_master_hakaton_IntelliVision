{
 "cells": [
  {
   "cell_type": "code",
   "execution_count": 2,
   "metadata": {},
   "outputs": [],
   "source": [
    "import pandas as pd\n",
    "import numpy as np"
   ]
  },
  {
   "cell_type": "code",
   "execution_count": 3,
   "metadata": {},
   "outputs": [],
   "source": [
    "file_pathes = pd.read_csv('images_paths.csv')\n",
    "\n",
    "# Генерация маски индексов изображений - каждое 10 изображение\n",
    "selected_imgs = list(range(0, file_pathes.shape[0], 10))"
   ]
  },
  {
   "cell_type": "code",
   "execution_count": 4,
   "metadata": {},
   "outputs": [
    {
     "data": {
      "text/html": [
       "<div>\n",
       "<style scoped>\n",
       "    .dataframe tbody tr th:only-of-type {\n",
       "        vertical-align: middle;\n",
       "    }\n",
       "\n",
       "    .dataframe tbody tr th {\n",
       "        vertical-align: top;\n",
       "    }\n",
       "\n",
       "    .dataframe thead th {\n",
       "        text-align: right;\n",
       "    }\n",
       "</style>\n",
       "<table border=\"1\" class=\"dataframe\">\n",
       "  <thead>\n",
       "    <tr style=\"text-align: right;\">\n",
       "      <th></th>\n",
       "      <th>paths</th>\n",
       "    </tr>\n",
       "  </thead>\n",
       "  <tbody>\n",
       "    <tr>\n",
       "      <th>0</th>\n",
       "      <td>veriwild\\1\\00001\\000001.jpg</td>\n",
       "    </tr>\n",
       "    <tr>\n",
       "      <th>10</th>\n",
       "      <td>veriwild\\1\\00002\\000011.jpg</td>\n",
       "    </tr>\n",
       "    <tr>\n",
       "      <th>20</th>\n",
       "      <td>veriwild\\1\\00005\\000021.jpg</td>\n",
       "    </tr>\n",
       "    <tr>\n",
       "      <th>30</th>\n",
       "      <td>veriwild\\1\\00006\\000031.jpg</td>\n",
       "    </tr>\n",
       "    <tr>\n",
       "      <th>40</th>\n",
       "      <td>veriwild\\1\\00006\\000041.jpg</td>\n",
       "    </tr>\n",
       "    <tr>\n",
       "      <th>...</th>\n",
       "      <td>...</td>\n",
       "    </tr>\n",
       "    <tr>\n",
       "      <th>416270</th>\n",
       "      <td>veriwild\\9\\36186\\369960.jpg</td>\n",
       "    </tr>\n",
       "    <tr>\n",
       "      <th>416280</th>\n",
       "      <td>veriwild\\9\\36187\\369970.jpg</td>\n",
       "    </tr>\n",
       "    <tr>\n",
       "      <th>416290</th>\n",
       "      <td>veriwild\\9\\36187\\369980.jpg</td>\n",
       "    </tr>\n",
       "    <tr>\n",
       "      <th>416300</th>\n",
       "      <td>veriwild\\9\\36188\\369990.jpg</td>\n",
       "    </tr>\n",
       "    <tr>\n",
       "      <th>416310</th>\n",
       "      <td>veriwild\\9\\36190\\370000.jpg</td>\n",
       "    </tr>\n",
       "  </tbody>\n",
       "</table>\n",
       "<p>41632 rows × 1 columns</p>\n",
       "</div>"
      ],
      "text/plain": [
       "                              paths\n",
       "0       veriwild\\1\\00001\\000001.jpg\n",
       "10      veriwild\\1\\00002\\000011.jpg\n",
       "20      veriwild\\1\\00005\\000021.jpg\n",
       "30      veriwild\\1\\00006\\000031.jpg\n",
       "40      veriwild\\1\\00006\\000041.jpg\n",
       "...                             ...\n",
       "416270  veriwild\\9\\36186\\369960.jpg\n",
       "416280  veriwild\\9\\36187\\369970.jpg\n",
       "416290  veriwild\\9\\36187\\369980.jpg\n",
       "416300  veriwild\\9\\36188\\369990.jpg\n",
       "416310  veriwild\\9\\36190\\370000.jpg\n",
       "\n",
       "[41632 rows x 1 columns]"
      ]
     },
     "execution_count": 4,
     "metadata": {},
     "output_type": "execute_result"
    }
   ],
   "source": [
    "file_pathes[file_pathes.index.isin(selected_imgs)]"
   ]
  }
 ],
 "metadata": {
  "kernelspec": {
   "display_name": "Python 3",
   "language": "python",
   "name": "python3"
  },
  "language_info": {
   "codemirror_mode": {
    "name": "ipython",
    "version": 3
   },
   "file_extension": ".py",
   "mimetype": "text/x-python",
   "name": "python",
   "nbconvert_exporter": "python",
   "pygments_lexer": "ipython3",
   "version": "3.8.5"
  }
 },
 "nbformat": 4,
 "nbformat_minor": 4
}
